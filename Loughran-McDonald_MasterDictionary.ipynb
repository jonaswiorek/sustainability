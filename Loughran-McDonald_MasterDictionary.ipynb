{
 "cells": [
  {
   "cell_type": "markdown",
   "id": "e31020fa-9e96-409d-b5b7-1c9d328bd343",
   "metadata": {},
   "source": [
    "# Sustainability Anlysis"
   ]
  },
  {
   "cell_type": "markdown",
   "id": "04ca6821-8283-4349-a681-261746a0971c",
   "metadata": {},
   "source": [
    "# 1 Configuration"
   ]
  },
  {
   "cell_type": "code",
   "execution_count": 1,
   "id": "7ba23804-4c6c-4544-91dc-eeb2921cd127",
   "metadata": {},
   "outputs": [],
   "source": [
    "import os\n",
    "import pandas as pd\n",
    "import PyPDF2\n",
    "import string\n",
    "import unicodedata\n",
    "from tqdm import tqdm"
   ]
  },
  {
   "cell_type": "markdown",
   "id": "1c6ea796-49d1-4447-8c16-4be45ab1f4dc",
   "metadata": {},
   "source": [
    "# 2 Convert Sustainability Reports to Text Files"
   ]
  },
  {
   "cell_type": "code",
   "execution_count": 2,
   "id": "6079a0cb-f630-41e0-87a0-e8ed33c2e60a",
   "metadata": {},
   "outputs": [],
   "source": [
    "def report_to_text(report):\n",
    "    \"\"\"Create a text string of pdf-file content\"\"\"\n",
    "    pdfFileObj = open(f\"Reports/{report}.pdf\", \"rb\")\n",
    "    pdfReader = PyPDF2.PdfReader(pdfFileObj)\n",
    "    no_pages = len(pdfReader.pages)\n",
    "\n",
    "    report_text = \"\"\n",
    "    for i in range(0,no_pages):\n",
    "        pageObj = pdfReader.pages[i]\n",
    "        report_text += pageObj.extract_text()\n",
    "    \n",
    "    return report_text"
   ]
  },
  {
   "cell_type": "code",
   "execution_count": 3,
   "id": "d243c3b5-91ae-45ed-9e13-b0d47fb1d939",
   "metadata": {},
   "outputs": [
    {
     "name": "stderr",
     "output_type": "stream",
     "text": [
      " 50%|█████     | 1/2 [00:00<00:00,  1.12it/s]"
     ]
    },
    {
     "name": "stdout",
     "output_type": "stream",
     "text": [
      "lean_primer\n"
     ]
    },
    {
     "name": "stderr",
     "output_type": "stream",
     "text": [
      "100%|██████████| 2/2 [00:02<00:00,  1.43s/it]"
     ]
    },
    {
     "name": "stdout",
     "output_type": "stream",
     "text": [
      "Haglöfs\n"
     ]
    },
    {
     "name": "stderr",
     "output_type": "stream",
     "text": [
      "\n"
     ]
    }
   ],
   "source": [
    "file_names = os.listdir(\"Reports\")\n",
    "report_file_names = [f[:-4] for f in file_names if f[-4:] == \".pdf\"]\n",
    "\n",
    "for report in tqdm(report_file_names):\n",
    "    report_text = report_to_text(report)\n",
    "    print(report)\n",
    "    f = open(f\"Reports_text/{report}.txt\", \"a\")\n",
    "    f.write(report_text)\n",
    "    f.close()"
   ]
  },
  {
   "cell_type": "markdown",
   "id": "e2eddea3-9bf0-4a44-9252-c2f59b6b6748",
   "metadata": {},
   "source": [
    "# 3 Create Sustainability Report Table "
   ]
  },
  {
   "cell_type": "code",
   "execution_count": 4,
   "id": "401f7e6f-5a35-44af-aa2b-13ca7203db89",
   "metadata": {},
   "outputs": [],
   "source": [
    "# Create an empty table\n",
    "report_table = pd.DataFrame(columns=[\"report_name\", \"content\"])\n",
    "# List text files in directory\n",
    "file_names = os.listdir(\"Reports_text\")\n",
    "text_file_names = [f[:-4] for f in file_names if f[-4:] == \".txt\"]\n",
    "# Append report name and report text for each report\n",
    "for text_file_name in text_file_names:\n",
    "    # Read text from report text file\n",
    "    text_file = open(f\"Reports_text/{text_file_name}.txt\", \"r\")\n",
    "    content = text_file.read()\n",
    "    content = content.replace('\\n', ' ').replace('\\r', ' ').replace('\\t', ' ')\n",
    "    # print(content)\n",
    "    text_file.close()    \n",
    "    # Append report name and text to table\n",
    "    report_row = pd.DataFrame([[text_file_name, content]], columns=[\"report_name\", \"content\"])\n",
    "    report_table = pd.concat([report_table, report_row],  axis=0, ignore_index=True)\n",
    "# Save table as csv file\n",
    "report_table.to_csv(\"reports.csv\", index=False)"
   ]
  },
  {
   "cell_type": "code",
   "execution_count": 5,
   "id": "57e3dc71-6b3a-4934-b06d-25931212ee44",
   "metadata": {},
   "outputs": [
    {
     "data": {
      "text/html": [
       "<div>\n",
       "<style scoped>\n",
       "    .dataframe tbody tr th:only-of-type {\n",
       "        vertical-align: middle;\n",
       "    }\n",
       "\n",
       "    .dataframe tbody tr th {\n",
       "        vertical-align: top;\n",
       "    }\n",
       "\n",
       "    .dataframe thead th {\n",
       "        text-align: right;\n",
       "    }\n",
       "</style>\n",
       "<table border=\"1\" class=\"dataframe\">\n",
       "  <thead>\n",
       "    <tr style=\"text-align: right;\">\n",
       "      <th></th>\n",
       "      <th>report_name</th>\n",
       "      <th>content</th>\n",
       "    </tr>\n",
       "  </thead>\n",
       "  <tbody>\n",
       "    <tr>\n",
       "      <th>0</th>\n",
       "      <td>lean_primer</td>\n",
       "      <td>1 www.leanprimer.com Copyright (c) Craig Larma...</td>\n",
       "    </tr>\n",
       "    <tr>\n",
       "      <th>1</th>\n",
       "      <td>Haglöfs</td>\n",
       "      <td>1 Haglöfs Sustainability Report  Sustainabilit...</td>\n",
       "    </tr>\n",
       "  </tbody>\n",
       "</table>\n",
       "</div>"
      ],
      "text/plain": [
       "   report_name                                            content\n",
       "0  lean_primer  1 www.leanprimer.com Copyright (c) Craig Larma...\n",
       "1     Haglöfs  1 Haglöfs Sustainability Report  Sustainabilit..."
      ]
     },
     "execution_count": 5,
     "metadata": {},
     "output_type": "execute_result"
    }
   ],
   "source": [
    "report_table.head()"
   ]
  },
  {
   "cell_type": "markdown",
   "id": "a29eb3f7-3652-4de1-8ac7-66059e4d32e8",
   "metadata": {},
   "source": [
    "# 4 Read Loughran-McDonald MasterD ictionary"
   ]
  },
  {
   "cell_type": "code",
   "execution_count": 6,
   "id": "15d4bab4-3aaa-4fd2-894c-38cf8fc506a0",
   "metadata": {},
   "outputs": [],
   "source": [
    "master_dictionary = pd.read_csv(\"Loughran-McDonald_MasterDictionary_1993-2021.csv\")"
   ]
  },
  {
   "cell_type": "code",
   "execution_count": 7,
   "id": "7107482c-7535-4e21-b744-4f8dd3ad4ae0",
   "metadata": {},
   "outputs": [
    {
     "data": {
      "text/plain": [
       "['ABLE',\n",
       " 'ABUNDANCE',\n",
       " 'ABUNDANT',\n",
       " 'ACCLAIMED',\n",
       " 'ACCOMPLISH',\n",
       " 'ACCOMPLISHED',\n",
       " 'ACCOMPLISHES',\n",
       " 'ACCOMPLISHING',\n",
       " 'ACCOMPLISHMENT',\n",
       " 'ACCOMPLISHMENTS',\n",
       " 'ACHIEVE',\n",
       " 'ACHIEVED',\n",
       " 'ACHIEVEMENT',\n",
       " 'ACHIEVEMENTS',\n",
       " 'ACHIEVES',\n",
       " 'ACHIEVING',\n",
       " 'ADEQUATELY',\n",
       " 'ADVANCEMENT',\n",
       " 'ADVANCEMENTS',\n",
       " 'ADVANCES']"
      ]
     },
     "execution_count": 7,
     "metadata": {},
     "output_type": "execute_result"
    }
   ],
   "source": [
    "postive_words = master_dictionary[master_dictionary.Positive != 0][\"Word\"].to_list()\n",
    "postive_words[:20]"
   ]
  },
  {
   "cell_type": "code",
   "execution_count": 8,
   "id": "90b50815-4555-4a65-bde4-760ed0830367",
   "metadata": {},
   "outputs": [
    {
     "data": {
      "text/plain": [
       "['ABANDON',\n",
       " 'ABANDONED',\n",
       " 'ABANDONING',\n",
       " 'ABANDONMENT',\n",
       " 'ABANDONMENTS',\n",
       " 'ABANDONS',\n",
       " 'ABDICATED',\n",
       " 'ABDICATES',\n",
       " 'ABDICATING',\n",
       " 'ABDICATION',\n",
       " 'ABDICATIONS',\n",
       " 'ABERRANT',\n",
       " 'ABERRATION',\n",
       " 'ABERRATIONAL',\n",
       " 'ABERRATIONS',\n",
       " 'ABETTING',\n",
       " 'ABNORMAL',\n",
       " 'ABNORMALITIES',\n",
       " 'ABNORMALITY',\n",
       " 'ABNORMALLY']"
      ]
     },
     "execution_count": 8,
     "metadata": {},
     "output_type": "execute_result"
    }
   ],
   "source": [
    "negative_words = master_dictionary[master_dictionary.Negative != 0][\"Word\"].to_list()\n",
    "negative_words[-20:]\n",
    "negative_words[:20]"
   ]
  },
  {
   "cell_type": "markdown",
   "id": "b2a820d6-e685-4701-874d-8a0a5833ce9c",
   "metadata": {},
   "source": [
    "# 5 Count Words in Reports"
   ]
  },
  {
   "cell_type": "code",
   "execution_count": 9,
   "id": "4e7f3a06-2574-462e-b37e-9b8be0934be4",
   "metadata": {},
   "outputs": [],
   "source": [
    "report_table = pd.read_csv(\"reports.csv\")\n",
    "report_table_count = report_table.copy()"
   ]
  },
  {
   "cell_type": "code",
   "execution_count": 10,
   "id": "0ed30918-2ce5-4c73-9360-f868c510826a",
   "metadata": {},
   "outputs": [],
   "source": [
    "def count_total_words(text):\n",
    "    \"\"\"Counts the total number of words in parameter string named text\"\"\"\n",
    "    return sum([i.strip(string.punctuation).isalpha() for i in text.split()])"
   ]
  },
  {
   "cell_type": "code",
   "execution_count": 11,
   "id": "66660a46-916e-457a-a184-56d382c3db60",
   "metadata": {},
   "outputs": [],
   "source": [
    "def count_words_in_text_from_list(text, word_list):\n",
    "    \"\"\"Counts the number of words in word_list in text\"\"\"\n",
    "    # Initialize an empty list to store the word counts\n",
    "    word_counts = {}\n",
    "    text = text.upper()\n",
    "    \n",
    "    # Iterate through each word in the list\n",
    "    for word in word_list:\n",
    "      # Count the occurrences of the word in the text using the count() method\n",
    "      count = text.count(word)\n",
    "      # Append the count to the word_counts list\n",
    "      word_counts[word] = count\n",
    "    \n",
    "    return word_counts"
   ]
  },
  {
   "cell_type": "code",
   "execution_count": 12,
   "id": "167f4ee7-283f-4c34-8dc3-98495023271c",
   "metadata": {},
   "outputs": [],
   "source": [
    "report_table_count[\"word_count\"] = report_table_count.content.map(count_total_words)\n",
    "report_table_count[\"negative_word_count\"] = report_table_count.content.map(lambda content: count_words_in_text_from_list(content, negative_words))\n",
    "report_table_count[\"positive_word_count\"] = report_table_count.content.map(lambda content: count_words_in_text_from_list(content, postive_words))\n",
    "report_table_count[\"total_negative_word_count\"] = report_table_count[\"negative_word_count\"].map(lambda d: sum(d.values()))\n",
    "report_table_count[\"total_positive_word_count\"] = report_table_count[\"positive_word_count\"].map(lambda d: sum(d.values()))"
   ]
  },
  {
   "cell_type": "code",
   "execution_count": 13,
   "id": "443ccbbf-e821-4eee-94ad-8ffbc258ad93",
   "metadata": {},
   "outputs": [],
   "source": [
    "report_table_count = report_table_count.drop(columns=\"content\")"
   ]
  },
  {
   "cell_type": "code",
   "execution_count": 14,
   "id": "878a6e30-7107-495c-96d4-7ad2d0809133",
   "metadata": {},
   "outputs": [],
   "source": [
    "report_table_count.to_csv(\"report_table_count.csv\", index=False)"
   ]
  },
  {
   "cell_type": "code",
   "execution_count": 15,
   "id": "3cb7a8c2-ee2b-4452-b6e9-b451359b5ddf",
   "metadata": {},
   "outputs": [
    {
     "data": {
      "text/html": [
       "<div>\n",
       "<style scoped>\n",
       "    .dataframe tbody tr th:only-of-type {\n",
       "        vertical-align: middle;\n",
       "    }\n",
       "\n",
       "    .dataframe tbody tr th {\n",
       "        vertical-align: top;\n",
       "    }\n",
       "\n",
       "    .dataframe thead th {\n",
       "        text-align: right;\n",
       "    }\n",
       "</style>\n",
       "<table border=\"1\" class=\"dataframe\">\n",
       "  <thead>\n",
       "    <tr style=\"text-align: right;\">\n",
       "      <th></th>\n",
       "      <th>report_name</th>\n",
       "      <th>word_count</th>\n",
       "      <th>negative_word_count</th>\n",
       "      <th>positive_word_count</th>\n",
       "      <th>total_negative_word_count</th>\n",
       "      <th>total_positive_word_count</th>\n",
       "    </tr>\n",
       "  </thead>\n",
       "  <tbody>\n",
       "    <tr>\n",
       "      <th>0</th>\n",
       "      <td>lean_primer</td>\n",
       "      <td>569251</td>\n",
       "      <td>{'ABANDON': 45, 'ABANDONED': 0, 'ABANDONING': ...</td>\n",
       "      <td>{'ABLE': 1575, 'ABUNDANCE': 0, 'ABUNDANT': 0, ...</td>\n",
       "      <td>23130</td>\n",
       "      <td>19845</td>\n",
       "    </tr>\n",
       "    <tr>\n",
       "      <th>1</th>\n",
       "      <td>Haglöfs</td>\n",
       "      <td>367232</td>\n",
       "      <td>{'ABANDON': 0, 'ABANDONED': 0, 'ABANDONING': 0...</td>\n",
       "      <td>{'ABLE': 2109, 'ABUNDANCE': 0, 'ABUNDANT': 0, ...</td>\n",
       "      <td>19285</td>\n",
       "      <td>10127</td>\n",
       "    </tr>\n",
       "  </tbody>\n",
       "</table>\n",
       "</div>"
      ],
      "text/plain": [
       "   report_name  word_count                                negative_word_count  \\\n",
       "0  lean_primer      569251  {'ABANDON': 45, 'ABANDONED': 0, 'ABANDONING': ...   \n",
       "1     Haglöfs      367232  {'ABANDON': 0, 'ABANDONED': 0, 'ABANDONING': 0...   \n",
       "\n",
       "                                 positive_word_count  \\\n",
       "0  {'ABLE': 1575, 'ABUNDANCE': 0, 'ABUNDANT': 0, ...   \n",
       "1  {'ABLE': 2109, 'ABUNDANCE': 0, 'ABUNDANT': 0, ...   \n",
       "\n",
       "   total_negative_word_count  total_positive_word_count  \n",
       "0                      23130                      19845  \n",
       "1                      19285                      10127  "
      ]
     },
     "execution_count": 15,
     "metadata": {},
     "output_type": "execute_result"
    }
   ],
   "source": [
    "report_table_count.head()"
   ]
  },
  {
   "cell_type": "code",
   "execution_count": 16,
   "id": "555af400-a090-4816-ac56-a3afc8dcbf36",
   "metadata": {},
   "outputs": [
    {
     "name": "stdout",
     "output_type": "stream",
     "text": [
      "0          ILL: 3870\n",
      "1    INABILITY: 2945\n",
      "Name: negative_word_count, dtype: object\n",
      "0    IMPROVE: 4500\n",
      "1       ABLE: 2109\n",
      "Name: positive_word_count, dtype: object\n",
      "1    INABILITY: 2945\n",
      "Name: negative_word_count, dtype: object\n",
      "1    ABLE: 2109\n",
      "Name: positive_word_count, dtype: object\n"
     ]
    }
   ],
   "source": [
    "print(report_table_count.negative_word_count.map(lambda d: f\"{max(d, key=d.get)}: {d[max(d, key=d.get)]}\"))\n",
    "print(report_table_count.positive_word_count.map(lambda d: f\"{max(d, key=d.get)}: {d[max(d, key=d.get)]}\"))\n",
    "print(report_table_count[report_table_count.report_name == \"Haglöfs\"].negative_word_count.map(lambda d: f\"{max(d, key=d.get)}: {d[max(d, key=d.get)]}\"))\n",
    "print(report_table_count[report_table_count.report_name == \"Haglöfs\"].positive_word_count.map(lambda d: f\"{max(d, key=d.get)}: {d[max(d, key=d.get)]}\"))"
   ]
  },
  {
   "cell_type": "markdown",
   "id": "9e57566b-52c2-4e70-be54-5ec794283473",
   "metadata": {},
   "source": [
    "# 6 Add Ranking"
   ]
  },
  {
   "cell_type": "code",
   "execution_count": 18,
   "id": "dd407b48-5768-4a58-94af-302695de3538",
   "metadata": {},
   "outputs": [],
   "source": [
    "# Gets report table with word counts\n",
    "report_table_count = pd.read_csv(\"report_table_count.csv\")\n",
    "report_table_count_ranking = report_table_count.copy()\n",
    "report_table_count_ranking[\"report_name\"] = report_table_count_ranking.report_name.map(lambda r:  unicodedata.normalize(\"NFC\", r))\n",
    "report_table_count_ranking[\"report_name\"] = report_table_count_ranking.report_name.map(lambda c: c.upper())\n",
    "\n",
    "# Gets report table with ranking\n",
    "ranking = pd.read_csv(\"sample.csv\")\n",
    "ranking[\"Company\"] = ranking.Company.map(lambda c: c.upper())\n",
    "\n",
    "# Adds ranking column to the report tabe with word counts\n",
    "report_table_count_ranking = report_table_count_ranking.merge(ranking, left_on=\"report_name\", right_on=\"Company\", how=\"inner\")\n",
    "report_table_count_ranking.drop(columns=[\"negative_word_count\", \"positive_word_count\", \"Company\"], inplace=True)"
   ]
  },
  {
   "cell_type": "code",
   "execution_count": 19,
   "id": "eeff68c9-31d7-4f51-b1c8-f28b7dabeae5",
   "metadata": {},
   "outputs": [],
   "source": [
    "report_table_count_ranking.to_csv(\"report_table_count_ranking.csv\", index=False)"
   ]
  },
  {
   "cell_type": "code",
   "execution_count": 20,
   "id": "a49e43c9-651d-4178-ab92-921b76705bd9",
   "metadata": {},
   "outputs": [
    {
     "data": {
      "text/html": [
       "<div>\n",
       "<style scoped>\n",
       "    .dataframe tbody tr th:only-of-type {\n",
       "        vertical-align: middle;\n",
       "    }\n",
       "\n",
       "    .dataframe tbody tr th {\n",
       "        vertical-align: top;\n",
       "    }\n",
       "\n",
       "    .dataframe thead th {\n",
       "        text-align: right;\n",
       "    }\n",
       "</style>\n",
       "<table border=\"1\" class=\"dataframe\">\n",
       "  <thead>\n",
       "    <tr style=\"text-align: right;\">\n",
       "      <th></th>\n",
       "      <th>report_name</th>\n",
       "      <th>word_count</th>\n",
       "      <th>total_negative_word_count</th>\n",
       "      <th>total_positive_word_count</th>\n",
       "      <th>Ranking</th>\n",
       "    </tr>\n",
       "  </thead>\n",
       "  <tbody>\n",
       "    <tr>\n",
       "      <th>0</th>\n",
       "      <td>LEAN_PRIMER</td>\n",
       "      <td>569251</td>\n",
       "      <td>23130</td>\n",
       "      <td>19845</td>\n",
       "      <td>2</td>\n",
       "    </tr>\n",
       "    <tr>\n",
       "      <th>1</th>\n",
       "      <td>HAGLÖFS</td>\n",
       "      <td>367232</td>\n",
       "      <td>19285</td>\n",
       "      <td>10127</td>\n",
       "      <td>17</td>\n",
       "    </tr>\n",
       "  </tbody>\n",
       "</table>\n",
       "</div>"
      ],
      "text/plain": [
       "   report_name  word_count  total_negative_word_count  \\\n",
       "0  LEAN_PRIMER      569251                      23130   \n",
       "1      HAGLÖFS      367232                      19285   \n",
       "\n",
       "   total_positive_word_count  Ranking  \n",
       "0                      19845        2  \n",
       "1                      10127       17  "
      ]
     },
     "execution_count": 20,
     "metadata": {},
     "output_type": "execute_result"
    }
   ],
   "source": [
    "report_table_count_ranking.head()"
   ]
  },
  {
   "cell_type": "markdown",
   "id": "e7aebbc6-d7c5-44c6-8173-0015dfb92c15",
   "metadata": {},
   "source": [
    "# 7 Calculate Statistics"
   ]
  },
  {
   "cell_type": "code",
   "execution_count": null,
   "id": "aa54b79f-f45a-42bb-821c-d85e614bc90b",
   "metadata": {},
   "outputs": [],
   "source": [
    "# Comment"
   ]
  }
 ],
 "metadata": {
  "kernelspec": {
   "display_name": "d2l:Python",
   "language": "python",
   "name": "conda-env-d2l-py"
  },
  "language_info": {
   "codemirror_mode": {
    "name": "ipython",
    "version": 3
   },
   "file_extension": ".py",
   "mimetype": "text/x-python",
   "name": "python",
   "nbconvert_exporter": "python",
   "pygments_lexer": "ipython3",
   "version": "3.9.7"
  }
 },
 "nbformat": 4,
 "nbformat_minor": 5
}
